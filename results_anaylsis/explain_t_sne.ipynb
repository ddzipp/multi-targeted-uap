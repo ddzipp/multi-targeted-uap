{
 "cells": [
  {
   "cell_type": "code",
   "execution_count": null,
   "metadata": {},
   "outputs": [],
   "source": [
    "import os\n",
    "\n",
    "os.chdir(\"/root/research/sources/multi-targeted-uap\")\n",
    "\n",
    "import json\n",
    "import re\n",
    "\n",
    "import torch\n",
    "\n",
    "import wandb\n",
    "\n",
    "# Online\n",
    "api = wandb.Api()\n",
    "run_path = \"lichangyue/label_num_DNN_test/0ex4qqxf\"\n",
    "run = api.run(run_path)\n",
    "config = json.loads(run.json_config)\n",
    "file = run.file(\"perturbation.pth\").download(root=\"./save\", replace=False, exist_ok=True)\n",
    "results = torch.load(file.name)\n",
    "config = {key: value[\"value\"] for key, value in config.items() if key != \"_wandb\"}\n"
   ]
  },
  {
   "cell_type": "code",
   "execution_count": null,
   "metadata": {},
   "outputs": [
    {
     "name": "stderr",
     "output_type": "stream",
     "text": [
      "/tmp/ipykernel_161942/3875625448.py:8: UserWarning: To copy construct from a tensor, it is recommended to use sourceTensor.clone().detach() or sourceTensor.clone().detach().requires_grad_(True), rather than torch.tensor(sourceTensor).\n",
      "  cfg.sample_id = torch.tensor(cfg.sample_id)\n"
     ]
    }
   ],
   "source": [
    "from config import Config\n",
    "\n",
    "cfg = Config()\n",
    "cfg.__dict__.update(config)\n",
    "cfg.sample_id = torch.tensor([list(map(int, re.findall(r\"\\d+\", x))) for x in cfg.sample_id[1:-2].split(r\"]\")])\n",
    "cfg.sample_id = torch.tensor(cfg.sample_id)\n"
   ]
  },
  {
   "cell_type": "code",
   "execution_count": null,
   "metadata": {},
   "outputs": [],
   "source": [
    "from attacks import get_attacker\n",
    "from demo import attack_dataloader\n",
    "from models import get_model\n",
    "\n",
    "model = get_model(cfg.model_name)\n",
    "embeddings = []\n",
    "hook_handlers = []\n",
    "\n",
    "\n",
    "# get the latent embedding of the image\n",
    "def hook_fn(module, input, output):\n",
    "    embeddings.append(output.detach().cpu())\n",
    "\n",
    "\n",
    "hook_handlers.append(list(model.model.modules())[-2].register_forward_hook(hook_fn))\n",
    "\n",
    "dataloader = attack_dataloader(cfg.dataset_name, cfg.sample_id, cfg.targets, shuffle=False, batch_size=1)\n",
    "attacker = get_attacker(cfg, model)\n"
   ]
  },
  {
   "cell_type": "code",
   "execution_count": 4,
   "metadata": {},
   "outputs": [
    {
     "name": "stdout",
     "output_type": "stream",
     "text": [
      "torch.Size([1, 3, 224, 224])\n"
     ]
    }
   ],
   "source": [
    "attacker.pert = results[\"perturbation\"].unsqueeze(0)\n",
    "print(attacker.pert.shape)"
   ]
  },
  {
   "cell_type": "code",
   "execution_count": null,
   "metadata": {},
   "outputs": [],
   "source": [
    "cosine_similarity = torch.nn.CosineSimilarity()\n",
    "original_labels = []\n",
    "adversarial_labels = []\n",
    "original_preds = []\n",
    "target_labels = []\n",
    "\n",
    "\n",
    "@torch.no_grad()\n",
    "def item_pred(item: dict):\n",
    "    # embeddings.clear()\n",
    "    # print(\"original label\", item['label'][-1])\n",
    "    # print(\"target\", item['target'][-1])\n",
    "    original_labels.append(item[\"labels\"][-1])\n",
    "    target_labels.append(item[\"targets\"][-1])\n",
    "    image = item[\"images\"].cuda()\n",
    "    logits = model.model(image)\n",
    "    # print(\"original predict label\", logits.argmax(-1).item())\n",
    "    original_preds.append(logits.argmax(-1).item())\n",
    "    inputs, target = attacker.get_adv_inputs(**item, generation=True)\n",
    "    image, target = inputs[\"pixel_values\"].cuda(), target.cuda()\n",
    "    logits = model.model(image)\n",
    "    # print(\"Adversarial pred\", logits.argmax(-1).item())\n",
    "    adversarial_labels.append(logits.argmax(-1).item())"
   ]
  },
  {
   "cell_type": "code",
   "execution_count": null,
   "metadata": {},
   "outputs": [
    {
     "name": "stderr",
     "output_type": "stream",
     "text": [
      "100%|██████████| 90/90 [00:15<00:00,  5.73it/s]\n"
     ]
    }
   ],
   "source": [
    "embeddings.clear()\n",
    "from tqdm import tqdm\n",
    "\n",
    "for item in tqdm(dataloader):\n",
    "    item_pred(item)\n"
   ]
  },
  {
   "cell_type": "code",
   "execution_count": null,
   "metadata": {},
   "outputs": [
    {
     "name": "stdout",
     "output_type": "stream",
     "text": [
      "tensor(0.4933)\n",
      "tensor(0.8186)\n"
     ]
    }
   ],
   "source": [
    "def get_distance(emb):\n",
    "    distance = torch.nn.functional.cosine_similarity(emb.unsqueeze(1), emb.unsqueeze(0), dim=-1)\n",
    "    return distance.mean()\n",
    "\n",
    "\n",
    "image_embeddings = embeddings[::2]\n",
    "adversarial_embeddings = embeddings[1::2]\n",
    "image_embeddings = torch.cat(image_embeddings, dim=0)\n",
    "adversarial_embeddings = torch.cat(adversarial_embeddings, dim=0)\n",
    "all_embeddings = torch.cat([image_embeddings, adversarial_embeddings], dim=0)\n",
    "print(get_distance(image_embeddings))\n",
    "print(get_distance(adversarial_embeddings))\n",
    "print(get_distance(all_embeddings))"
   ]
  },
  {
   "cell_type": "markdown",
   "metadata": {},
   "source": [
    "# calc emb cos for each targets"
   ]
  },
  {
   "cell_type": "code",
   "execution_count": null,
   "metadata": {},
   "outputs": [
    {
     "name": "stdout",
     "output_type": "stream",
     "text": [
      "tensor(0.6222)\n",
      "tensor(0.6780)\n",
      "tensor(0.7435)\n",
      "tensor(0.8546)\n",
      "tensor(0.8920)\n",
      "tensor(0.8856)\n"
     ]
    }
   ],
   "source": [
    "step = image_embeddings.shape[0] / len(cfg.targets)\n",
    "for i in range(len(cfg.targets) * 2):\n",
    "    print(get_distance(all_embeddings[int(i * step) : int((i + 1) * step), :]))"
   ]
  },
  {
   "cell_type": "code",
   "execution_count": null,
   "metadata": {},
   "outputs": [
    {
     "name": "stdout",
     "output_type": "stream",
     "text": [
      "tensor(0.8546)\n",
      "tensor(0.8920)\n",
      "tensor(0.8856)\n"
     ]
    }
   ],
   "source": [
    "step = adversarial_embeddings.shape[0] / len(cfg.targets)\n",
    "for i in range(len(cfg.targets)):\n",
    "    print(get_distance(adversarial_embeddings[int(i * step) : int((i + 1) * step), :]))"
   ]
  },
  {
   "cell_type": "code",
   "execution_count": null,
   "metadata": {},
   "outputs": [],
   "source": [
    "import matplotlib.pyplot as plt\n",
    "from sklearn.manifold import TSNE\n",
    "\n",
    "\n",
    "def plot_tsne(emb):\n",
    "    tsne = TSNE(n_components=2, random_state=0)\n",
    "    _emb = emb.cpu().numpy()\n",
    "    return tsne.fit_transform(_emb)"
   ]
  },
  {
   "cell_type": "code",
   "execution_count": 38,
   "metadata": {},
   "outputs": [],
   "source": [
    "all_embeddings = torch.cat([image_embeddings, adversarial_embeddings], dim=0)\n"
   ]
  },
  {
   "cell_type": "code",
   "execution_count": null,
   "metadata": {},
   "outputs": [
    {
     "data": {
      "text/plain": [
       "<matplotlib.collections.PathCollection at 0x74a80ddd63e0>"
      ]
     },
     "execution_count": 47,
     "metadata": {},
     "output_type": "execute_result"
    },
    {
     "data": {
      "image/png": "[encoded data removed]",
      "text/plain": [
       "<Figure size 640x480 with 1 Axes>"
      ]
     },
     "metadata": {},
     "output_type": "display_data"
    }
   ],
   "source": [
    "def pca(embeddings):\n",
    "    normalized_embeddings = embeddings / torch.norm(embeddings, p=2, dim=1, keepdim=True)\n",
    "    from sklearn.decomposition import PCA\n",
    "\n",
    "    pca = PCA(n_components=2)\n",
    "    return pca.fit_transform(normalized_embeddings)\n",
    "\n",
    "\n",
    "pca_embeddings = pca(all_embeddings)\n",
    "plt.scatter(pca_embeddings[:, 0], pca_embeddings[:, 1])"
   ]
  },
  {
   "cell_type": "code",
   "execution_count": null,
   "metadata": {},
   "outputs": [
    {
     "data": {
      "image/png": "[encoded data removed]",
      "text/plain": [
       "<Figure size 640x480 with 1 Axes>"
      ]
     },
     "metadata": {},
     "output_type": "display_data"
    }
   ],
   "source": [
    "step = 30\n",
    "plt.scatter(pca_embeddings[:step, 0], pca_embeddings[:step, 1], label=\"label 0\", alpha=0.5)\n",
    "plt.scatter(pca_embeddings[step : 2 * step, 0], pca_embeddings[step : 2 * step, 1], label=\"label 1\", alpha=0.5)\n",
    "plt.scatter(pca_embeddings[2 * step : 3 * step, 0], pca_embeddings[2 * step : 3 * step, 1], label=\"label 2\", alpha=0.5)\n",
    "plt.scatter(\n",
    "    pca_embeddings[3 * step : 4 * step, 0], pca_embeddings[3 * step : 4 * step, 1], label=\"target label 0\", alpha=0.5\n",
    ")\n",
    "plt.scatter(\n",
    "    pca_embeddings[4 * step : 5 * step, 0], pca_embeddings[4 * step : 5 * step, 1], label=\"target label 1\", alpha=0.5\n",
    ")\n",
    "plt.scatter(\n",
    "    pca_embeddings[5 * step : 6 * step, 0], pca_embeddings[5 * step : 6 * step, 1], label=\"target label 2\", alpha=0.5\n",
    ")\n",
    "plt.legend(loc=\"upper right\", fontsize=8)\n",
    "plt.axis(\"off\")\n",
    "plt.show()"
   ]
  },
  {
   "cell_type": "code",
   "execution_count": null,
   "metadata": {},
   "outputs": [
    {
     "data": {
      "text/plain": [
       "30.0"
      ]
     },
     "execution_count": 29,
     "metadata": {},
     "output_type": "execute_result"
    }
   ],
   "source": []
  }
 ],
 "metadata": {
  "kernelspec": {
   "display_name": ".venv",
   "language": "python",
   "name": "python3"
  },
  "language_info": {
   "codemirror_mode": {
    "name": "ipython",
    "version": 3
   },
   "file_extension": ".py",
   "mimetype": "text/x-python",
   "name": "python",
   "nbconvert_exporter": "python",
   "pygments_lexer": "ipython3",
   "version": "3.10.12"
  }
 },
 "nbformat": 4,
 "nbformat_minor": 2
}

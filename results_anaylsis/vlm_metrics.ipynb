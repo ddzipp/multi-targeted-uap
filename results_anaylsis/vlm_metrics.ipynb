{
 "cells": [
  {
   "cell_type": "code",
   "execution_count": null,
   "id": "0aa18384",
   "metadata": {},
   "outputs": [],
   "source": [
    "import os\n",
    "import wandb\n",
    "import torch\n",
    "import numpy as np\n",
    "\n",
    "os.chdir(\"../\")\n",
    "os.environ[\"CUDA_VISIBLE_DEVICES\"] = \"4,5,6\"\n",
    "\n",
    "from config import Config  # noqa: E402\n",
    "\n",
    "\n",
    "api = wandb.Api()\n",
    "run_path = \"lichangyue/ImageNet-VLM-Eval/rkynyh46\"\n",
    "run = api.run(run_path)\n",
    "config = run.config\n",
    "cfg = Config()\n",
    "cfg.__dict__.update(config)\n"
   ]
  },
  {
   "cell_type": "code",
   "execution_count": 7,
   "id": "1493e463",
   "metadata": {},
   "outputs": [],
   "source": [
    "num_targets = cfg.num_targets\n",
    "root = \"./save/\"\n",
    "f = root + run.file(f\"{config['model_name']}/perturbation.pth\").name\n",
    "f = f.replace(\".pth\", \"_evaluation.pth\")\n",
    "results = torch.load(f)"
   ]
  },
  {
   "cell_type": "code",
   "execution_count": 8,
   "id": "97d6d872",
   "metadata": {},
   "outputs": [
    {
     "data": {
      "text/plain": [
       "['moving van',\n",
       " 'moving van',\n",
       " 'moving van',\n",
       " 'moving van',\n",
       " 'moving van',\n",
       " 'moving van',\n",
       " 'moving van',\n",
       " 'moving van',\n",
       " 'moving van',\n",
       " 'moving van',\n",
       " 'moving van',\n",
       " 'moving van',\n",
       " 'The image features a close-up of a therm',\n",
       " 'moving van',\n",
       " 'moving van',\n",
       " 'moving van',\n",
       " 'moving van',\n",
       " 'moving van',\n",
       " 'The image features a gold and white clock with a',\n",
       " 'moving van',\n",
       " 'moving van',\n",
       " 'moving van',\n",
       " 'moving van',\n",
       " 'Yorkshire terrier',\n",
       " 'moving van',\n",
       " 'moving van',\n",
       " 'moving van',\n",
       " 'The image features a colorful and vibrant',\n",
       " 'moving van',\n",
       " 'moving van',\n",
       " 'moving van',\n",
       " 'moving van',\n",
       " 'moving van',\n",
       " 'moving van',\n",
       " 'moving van',\n",
       " 'The image features a large clock with a unique design',\n",
       " 'The image features a close-up of a pressure',\n",
       " 'moving van',\n",
       " 'moving van',\n",
       " 'moving van',\n",
       " 'moving van',\n",
       " 'moving van',\n",
       " 'moving van',\n",
       " 'The image features a close-up of a clock',\n",
       " 'moving van',\n",
       " 'moving van',\n",
       " 'moving van',\n",
       " 'moving van',\n",
       " 'moving van',\n",
       " 'moving van',\n",
       " 'Yorkshire terrier',\n",
       " 'Yorkshire terrier',\n",
       " 'Yorkshire terrier',\n",
       " 'Yorkshire terrier',\n",
       " 'Yorkshire terrier',\n",
       " 'Yorkshire terrier',\n",
       " 'Yorkshire terrier',\n",
       " 'Yorkshire terrier',\n",
       " 'Yorkshire terrier',\n",
       " 'Yorkshire terrier',\n",
       " 'Yorkshire terrier',\n",
       " 'Yorkshire terrier',\n",
       " 'The image features a man standing in a bathroom',\n",
       " 'Yorkshire terrier',\n",
       " 'Yorkshire terrier',\n",
       " 'Yorkshire terrier',\n",
       " 'Yorkshire terrier',\n",
       " 'Yorkshire terrier',\n",
       " 'Yorkshire terrier',\n",
       " 'Yorkshire terrier',\n",
       " 'Yorkshire terrier',\n",
       " 'Yorkshire terrier',\n",
       " 'Yorkshire terrier',\n",
       " 'Yorkshire terrier',\n",
       " 'Yorkshire terrier',\n",
       " 'Yorkshire terrier',\n",
       " 'Yorkshire terrier',\n",
       " 'Yorkshire terrier',\n",
       " 'Yorkshire terrier',\n",
       " 'Yorkshire terrier',\n",
       " 'Yorkshire terrier',\n",
       " 'Yorkshire terrier',\n",
       " 'Yorkshire terrier',\n",
       " 'Yorkshire terrier',\n",
       " 'Yorkshire terrier',\n",
       " 'Yorkshire terrier',\n",
       " 'Yorkshire terrier',\n",
       " 'Yorkshire terrier',\n",
       " 'Yorkshire terrier',\n",
       " 'Yorkshire terrier',\n",
       " 'Yorkshire terrier',\n",
       " 'Yorkshire terrier',\n",
       " 'Yorkshire terrier',\n",
       " 'Yorkshire terrier',\n",
       " 'Yorkshire terrier',\n",
       " 'Yorkshire terrier',\n",
       " 'moving van',\n",
       " 'Yorkshire terrier',\n",
       " 'The image features a refrigerator with a',\n",
       " 'Yorkshire terrier']"
      ]
     },
     "execution_count": 8,
     "metadata": {},
     "output_type": "execute_result"
    }
   ],
   "source": [
    "results[\"train_preds\"]"
   ]
  },
  {
   "cell_type": "code",
   "execution_count": null,
   "id": "c2f680b7",
   "metadata": {},
   "outputs": [],
   "source": [
    "def calc_asr(preds, targets):\n",
    "    preds = np.array(preds)\n",
    "    targets = np.array(targets)\n",
    "    asr_targets = []\n",
    "    datasize = len(preds) // num_targets\n",
    "    for i in range(num_targets):\n",
    "        left = i * datasize\n",
    "        right = (i + 1) * datasize\n",
    "        preds_i = preds[left:right]\n",
    "        targets_i = targets[left:right]\n",
    "        asr_targets.append((preds_i == targets_i).mean().item())\n",
    "    print(\"ASR for each target:\", asr_targets)\n",
    "    print(f\"Average ASR: {np.mean(asr_targets):.4f}\")\n",
    "    return asr_targets"
   ]
  },
  {
   "cell_type": "code",
   "execution_count": 25,
   "id": "0d2a059c",
   "metadata": {},
   "outputs": [
    {
     "name": "stdout",
     "output_type": "stream",
     "text": [
      "ASR for each target: [0.86, 0.94]\n",
      "Average ASR: 0.9000\n"
     ]
    }
   ],
   "source": [
    "train_asr = calc_asr(results[\"train_preds\"], results[\"train_targets\"])"
   ]
  },
  {
   "cell_type": "code",
   "execution_count": 26,
   "id": "976dfedc",
   "metadata": {},
   "outputs": [],
   "source": [
    "run.summary.update({\"Train_ASR\": train_asr})"
   ]
  },
  {
   "cell_type": "code",
   "execution_count": 27,
   "id": "264b0517",
   "metadata": {},
   "outputs": [
    {
     "name": "stdout",
     "output_type": "stream",
     "text": [
      "ASR for each target: [0.5, 0.7]\n",
      "Average ASR: 0.6000\n"
     ]
    }
   ],
   "source": [
    "test_asr = calc_asr(results[\"test_preds\"], results[\"test_targets\"])"
   ]
  },
  {
   "cell_type": "code",
   "execution_count": 28,
   "id": "bec0858c",
   "metadata": {},
   "outputs": [],
   "source": [
    "run.summary.update({\"Test_ASR\": test_asr})"
   ]
  },
  {
   "cell_type": "code",
   "execution_count": null,
   "id": "c708f7e1",
   "metadata": {},
   "outputs": [],
   "source": []
  }
 ],
 "metadata": {
  "kernelspec": {
   "display_name": ".venv",
   "language": "python",
   "name": "python3"
  },
  "language_info": {
   "codemirror_mode": {
    "name": "ipython",
    "version": 3
   },
   "file_extension": ".py",
   "mimetype": "text/x-python",
   "name": "python",
   "nbconvert_exporter": "python",
   "pygments_lexer": "ipython3",
   "version": "3.10.16"
  }
 },
 "nbformat": 4,
 "nbformat_minor": 5
}

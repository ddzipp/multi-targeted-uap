{
 "cells": [
  {
   "cell_type": "code",
   "execution_count": null,
   "metadata": {},
   "outputs": [],
   "source": [
    "import wandb\n",
    "api = wandb.Api()\n",
    "import torch\n",
    "\n",
    "import seaborn as sns\n",
    "runs = api.runs(\"lichangyue/multi-targeted-VLM-test\")\n"
   ]
  },
  {
   "cell_type": "code",
   "execution_count": 6,
   "metadata": {},
   "outputs": [
    {
     "name": "stdout",
     "output_type": "stream",
     "text": [
      "perturbation-on-normalized-image dbrfhwqf\n"
     ]
    }
   ],
   "source": [
    "run = runs[2]\n",
    "print(run.name, run.id)   "
   ]
  },
  {
   "cell_type": "code",
   "execution_count": 7,
   "metadata": {},
   "outputs": [],
   "source": [
    "files = run.files()"
   ]
  },
  {
   "cell_type": "code",
   "execution_count": 8,
   "metadata": {},
   "outputs": [
    {
     "data": {
      "text/plain": [
       "[<File config.yaml () 1.1KiB>,\n",
       " <File output.log () 2.7KiB>,\n",
       " <File perturbation.pth () 2.6MiB>,\n",
       " <File requirements.txt (text/plain; charset=utf-8) 5.6KiB>,\n",
       " <File wandb-metadata.json (application/json) 1.9KiB>,\n",
       " <File wandb-summary.json (application/json) 129.0B>]"
      ]
     },
     "execution_count": 8,
     "metadata": {},
     "output_type": "execute_result"
    }
   ],
   "source": [
    "list(files)"
   ]
  },
  {
   "cell_type": "code",
   "execution_count": 9,
   "metadata": {},
   "outputs": [],
   "source": [
    "pert = run.file(\"perturbation.pth\").download(root=\"./save\", replace=True)"
   ]
  },
  {
   "cell_type": "code",
   "execution_count": 10,
   "metadata": {},
   "outputs": [
    {
     "data": {
      "text/plain": [
       "<_io.TextIOWrapper name='./save/perturbation.pth' mode='r' encoding='UTF-8'>"
      ]
     },
     "execution_count": 10,
     "metadata": {},
     "output_type": "execute_result"
    }
   ],
   "source": [
    "pert"
   ]
  },
  {
   "cell_type": "code",
   "execution_count": 13,
   "metadata": {},
   "outputs": [
    {
     "name": "stderr",
     "output_type": "stream",
     "text": [
      "/tmp/ipykernel_166373/3508306435.py:1: FutureWarning: You are using `torch.load` with `weights_only=False` (the current default value), which uses the default pickle module implicitly. It is possible to construct malicious pickle data which will execute arbitrary code during unpickling (See https://github.com/pytorch/pytorch/blob/main/SECURITY.md#untrusted-models for more details). In a future release, the default value for `weights_only` will be flipped to `True`. This limits the functions that could be executed during unpickling. Arbitrary objects will no longer be allowed to be loaded via this mode unless they are explicitly allowlisted by the user via `torch.serialization.add_safe_globals`. We recommend you start setting `weights_only=True` for any use case where you don't have full control of the loaded file. Please open an issue on GitHub for any issues related to this experimental feature.\n",
      "  result = torch.load(pert.name)\n"
     ]
    }
   ],
   "source": [
    "\n",
    "result = torch.load(pert.name)\n",
    "pert = result[\"perturbation\"]\n",
    "mask = result[\"mask\"]"
   ]
  },
  {
   "cell_type": "code",
   "execution_count": 14,
   "metadata": {},
   "outputs": [
    {
     "data": {
      "text/plain": [
       "(torch.Size([3, 336, 336]), torch.Size([1, 3, 336, 336]))"
      ]
     },
     "execution_count": 14,
     "metadata": {},
     "output_type": "execute_result"
    }
   ],
   "source": [
    "pert.shape, mask.shape"
   ]
  },
  {
   "cell_type": "code",
   "execution_count": 19,
   "metadata": {},
   "outputs": [],
   "source": [
    "history = run.history()"
   ]
  },
  {
   "cell_type": "code",
   "execution_count": 26,
   "metadata": {},
   "outputs": [],
   "source": [
    "histories = runs.histories(format=\"pandas\")"
   ]
  },
  {
   "cell_type": "code",
   "execution_count": 29,
   "metadata": {},
   "outputs": [
    {
     "data": {
      "text/html": [
       "<div>\n",
       "<style scoped>\n",
       "    .dataframe tbody tr th:only-of-type {\n",
       "        vertical-align: middle;\n",
       "    }\n",
       "\n",
       "    .dataframe tbody tr th {\n",
       "        vertical-align: top;\n",
       "    }\n",
       "\n",
       "    .dataframe thead th {\n",
       "        text-align: right;\n",
       "    }\n",
       "</style>\n",
       "<table border=\"1\" class=\"dataframe\">\n",
       "  <thead>\n",
       "    <tr style=\"text-align: right;\">\n",
       "      <th></th>\n",
       "      <th>_runtime</th>\n",
       "      <th>_step</th>\n",
       "      <th>_timestamp</th>\n",
       "      <th>loss</th>\n",
       "      <th>run_id</th>\n",
       "    </tr>\n",
       "  </thead>\n",
       "  <tbody>\n",
       "    <tr>\n",
       "      <th>0</th>\n",
       "      <td>7.540622</td>\n",
       "      <td>0</td>\n",
       "      <td>1.740988e+09</td>\n",
       "      <td>4.742188</td>\n",
       "      <td>vmcnvqbb</td>\n",
       "    </tr>\n",
       "    <tr>\n",
       "      <th>1</th>\n",
       "      <td>13.148839</td>\n",
       "      <td>1</td>\n",
       "      <td>1.740988e+09</td>\n",
       "      <td>4.714844</td>\n",
       "      <td>vmcnvqbb</td>\n",
       "    </tr>\n",
       "    <tr>\n",
       "      <th>2</th>\n",
       "      <td>20.917938</td>\n",
       "      <td>2</td>\n",
       "      <td>1.740988e+09</td>\n",
       "      <td>4.714844</td>\n",
       "      <td>vmcnvqbb</td>\n",
       "    </tr>\n",
       "    <tr>\n",
       "      <th>3</th>\n",
       "      <td>27.435786</td>\n",
       "      <td>3</td>\n",
       "      <td>1.740988e+09</td>\n",
       "      <td>4.722656</td>\n",
       "      <td>vmcnvqbb</td>\n",
       "    </tr>\n",
       "    <tr>\n",
       "      <th>4</th>\n",
       "      <td>33.025763</td>\n",
       "      <td>4</td>\n",
       "      <td>1.740988e+09</td>\n",
       "      <td>4.718750</td>\n",
       "      <td>vmcnvqbb</td>\n",
       "    </tr>\n",
       "    <tr>\n",
       "      <th>...</th>\n",
       "      <td>...</td>\n",
       "      <td>...</td>\n",
       "      <td>...</td>\n",
       "      <td>...</td>\n",
       "      <td>...</td>\n",
       "    </tr>\n",
       "    <tr>\n",
       "      <th>1316</th>\n",
       "      <td>2841.379992</td>\n",
       "      <td>316</td>\n",
       "      <td>1.741015e+09</td>\n",
       "      <td>0.031308</td>\n",
       "      <td>dbrfhwqf</td>\n",
       "    </tr>\n",
       "    <tr>\n",
       "      <th>1317</th>\n",
       "      <td>2850.245257</td>\n",
       "      <td>317</td>\n",
       "      <td>1.741015e+09</td>\n",
       "      <td>0.095077</td>\n",
       "      <td>dbrfhwqf</td>\n",
       "    </tr>\n",
       "    <tr>\n",
       "      <th>1318</th>\n",
       "      <td>2858.041508</td>\n",
       "      <td>318</td>\n",
       "      <td>1.741015e+09</td>\n",
       "      <td>0.015241</td>\n",
       "      <td>dbrfhwqf</td>\n",
       "    </tr>\n",
       "    <tr>\n",
       "      <th>1319</th>\n",
       "      <td>2866.768976</td>\n",
       "      <td>319</td>\n",
       "      <td>1.741015e+09</td>\n",
       "      <td>0.010542</td>\n",
       "      <td>dbrfhwqf</td>\n",
       "    </tr>\n",
       "    <tr>\n",
       "      <th>1320</th>\n",
       "      <td>2874.417107</td>\n",
       "      <td>320</td>\n",
       "      <td>1.741015e+09</td>\n",
       "      <td>0.021897</td>\n",
       "      <td>dbrfhwqf</td>\n",
       "    </tr>\n",
       "  </tbody>\n",
       "</table>\n",
       "<p>1321 rows × 5 columns</p>\n",
       "</div>"
      ],
      "text/plain": [
       "         _runtime  _step    _timestamp      loss    run_id\n",
       "0        7.540622      0  1.740988e+09  4.742188  vmcnvqbb\n",
       "1       13.148839      1  1.740988e+09  4.714844  vmcnvqbb\n",
       "2       20.917938      2  1.740988e+09  4.714844  vmcnvqbb\n",
       "3       27.435786      3  1.740988e+09  4.722656  vmcnvqbb\n",
       "4       33.025763      4  1.740988e+09  4.718750  vmcnvqbb\n",
       "...           ...    ...           ...       ...       ...\n",
       "1316  2841.379992    316  1.741015e+09  0.031308  dbrfhwqf\n",
       "1317  2850.245257    317  1.741015e+09  0.095077  dbrfhwqf\n",
       "1318  2858.041508    318  1.741015e+09  0.015241  dbrfhwqf\n",
       "1319  2866.768976    319  1.741015e+09  0.010542  dbrfhwqf\n",
       "1320  2874.417107    320  1.741015e+09  0.021897  dbrfhwqf\n",
       "\n",
       "[1321 rows x 5 columns]"
      ]
     },
     "execution_count": 29,
     "metadata": {},
     "output_type": "execute_result"
    }
   ],
   "source": [
    "histories"
   ]
  },
  {
   "cell_type": "code",
   "execution_count": 32,
   "metadata": {},
   "outputs": [
    {
     "data": {
      "text/plain": [
       "<Axes: xlabel='_step', ylabel='loss'>"
      ]
     },
     "execution_count": 32,
     "metadata": {},
     "output_type": "execute_result"
    },
    {
     "data": {
      "image/png": "[encoded data removed]",
      "text/plain": [
       "<Figure size 640x480 with 1 Axes>"
      ]
     },
     "metadata": {},
     "output_type": "display_data"
    }
   ],
   "source": [
    "\n",
    "sns.lineplot(data=histories, x=\"_step\", y=\"loss\", hue=\"run_id\")"
   ]
  },
  {
   "cell_type": "code",
   "execution_count": null,
   "metadata": {},
   "outputs": [],
   "source": []
  }
 ],
 "metadata": {
  "kernelspec": {
   "display_name": "Python 3",
   "language": "python",
   "name": "python3"
  },
  "language_info": {
   "codemirror_mode": {
    "name": "ipython",
    "version": 3
   },
   "file_extension": ".py",
   "mimetype": "text/x-python",
   "name": "python",
   "nbconvert_exporter": "python",
   "pygments_lexer": "ipython3",
   "version": "3.10.12"
  }
 },
 "nbformat": 4,
 "nbformat_minor": 2
}

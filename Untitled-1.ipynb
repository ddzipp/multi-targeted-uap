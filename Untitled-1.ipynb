{
 "cells": [
  {
   "cell_type": "code",
   "execution_count": null,
   "metadata": {},
   "outputs": [],
   "source": [
    "import json\n",
    "\n",
    "import torch\n",
    "\n",
    "import wandb\n",
    "from attacks.base import Attacker\n",
    "from config import Config\n",
    "from demo import attack_dataloader\n",
    "from models import get_model\n",
    "from utils.constraint import Constraint\n",
    "\n",
    "api = wandb.Api()\n",
    "run_path = \"lichangyue/label_num_DNN_test/7tjvowmt\"\n",
    "run = api.run(run_path)\n",
    "config = json.loads(run.json_config)\n",
    "config = {key: value[\"value\"] for key, value in config.items() if key != \"_wandb\"}\n",
    "cfg = Config(**config)\n",
    "\n",
    "cfg.sample_id = torch.tensor(cfg.sample_id) + 5\n",
    "\n",
    "model = get_model(cfg.model_name)\n",
    "dataloader = attack_dataloader(cfg.dataset_name, cfg.sample_id, cfg.targets)\n",
    "dataset = dataloader.dataset\n",
    "dataloader = torch.utils.data.DataLoader(dataset, batch_size=5, shuffle=False)\n",
    "\n",
    "constraint = Constraint(cfg.attack_mode, frame_width=cfg.frame_width, ref_size=299)\n",
    "attacker = Attacker(model, constraint, cfg)\n",
    "\n",
    "file = run.file(\"perturbation.pth\")\n",
    "results = torch.load(file.name)\n",
    "attacker.pert = results[\"perturbation\"]\n",
    "\n",
    "\n",
    "asr = 0.0\n",
    "acc = 0.0\n",
    "with torch.no_grad():\n",
    "    for item in dataloader:\n",
    "        inputs, target = attacker.get_inputs(**item, generation=True)\n",
    "        image, target = inputs[\"pixel_values\"].cuda(), target.cuda()\n",
    "        label = torch.tensor([int(label) for label in item[\"label\"]], device=\"cuda\")\n",
    "        logits = model.model(image)\n",
    "        pred = logits.argmax(-1)\n",
    "        acc += (pred == label).sum().item()\n",
    "        asr += (pred == target).sum().item()\n",
    "asr /= len(dataset)\n",
    "acc /= len(dataset)\n",
    "print(\"ASR: \", asr)\n",
    "print(\"ACC: \", acc)\n"
   ]
  },
  {
   "cell_type": "code",
   "execution_count": null,
   "metadata": {},
   "outputs": [
    {
     "data": {
      "text/plain": [
       "[<File config.yaml () 1.3KiB>,\n",
       " <File output.log () 5.5KiB>,\n",
       " <File perturbation.pth () 589.2KiB>,\n",
       " <File requirements.txt (text/plain; charset=utf-8) 5.6KiB>,\n",
       " <File wandb-metadata.json (application/json) 1.9KiB>,\n",
       " <File wandb-summary.json (application/json) 126.0B>]"
      ]
     },
     "execution_count": 12,
     "metadata": {},
     "output_type": "execute_result"
    }
   ],
   "source": [
    "cfg.sample_id = torch.tensor(cfg.sample_id)\n",
    "\n",
    "model = get_model(cfg.model_name)\n",
    "dataloader = attack_dataloader(cfg.dataset_name, cfg.sample_id, cfg.targets)\n",
    "dataset = dataloader.dataset\n",
    "dataloader = torch.utils.data.DataLoader(dataset, batch_size=5, shuffle=False)\n",
    "\n",
    "constraint = Constraint(cfg.attack_mode, frame_width=cfg.frame_width, ref_size=299)\n",
    "attacker = Attacker(model, constraint, cfg)"
   ]
  },
  {
   "cell_type": "code",
   "execution_count": null,
   "metadata": {},
   "outputs": [],
   "source": [
    "file = run.file(\"perturbation.pth\").download(root=\"./save\", replace=False)"
   ]
  },
  {
   "cell_type": "code",
   "execution_count": null,
   "metadata": {},
   "outputs": [
    {
     "name": "stderr",
     "output_type": "stream",
     "text": [
      "/tmp/ipykernel_260648/4111818829.py:2: FutureWarning: You are using `torch.load` with `weights_only=False` (the current default value), which uses the default pickle module implicitly. It is possible to construct malicious pickle data which will execute arbitrary code during unpickling (See https://github.com/pytorch/pytorch/blob/main/SECURITY.md#untrusted-models for more details). In a future release, the default value for `weights_only` will be flipped to `True`. This limits the functions that could be executed during unpickling. Arbitrary objects will no longer be allowed to be loaded via this mode unless they are explicitly allowlisted by the user via `torch.serialization.add_safe_globals`. We recommend you start setting `weights_only=True` for any use case where you don't have full control of the loaded file. Please open an issue on GitHub for any issues related to this experimental feature.\n",
      "  pert = torch.load(pert.name)\n"
     ]
    }
   ],
   "source": [
    "import torch\n",
    "results = torch.load(file.name)"
   ]
  },
  {
   "cell_type": "code",
   "execution_count": 46,
   "metadata": {},
   "outputs": [],
   "source": [
    "file = run.file(\"perturbation.pth\")"
   ]
  },
  {
   "cell_type": "code",
   "execution_count": null,
   "metadata": {},
   "outputs": [
    {
     "ename": "AttributeError",
     "evalue": "'<Run lichangyue/label_num_DNN_test/7tjvowmt (finished)>' object has no attribute '_settings'",
     "output_type": "error",
     "traceback": [
      "\u001b[0;31m---------------------------------------------------------------------------\u001b[0m",
      "\u001b[0;31mAttributeError\u001b[0m                            Traceback (most recent call last)",
      "Cell \u001b[0;32mIn[65], line 1\u001b[0m\n\u001b[0;32m----> 1\u001b[0m \u001b[43mrun\u001b[49m\u001b[38;5;241;43m.\u001b[39;49m\u001b[43m_settings\u001b[49m[\u001b[38;5;124m\"\u001b[39m\u001b[38;5;124mpath\u001b[39m\u001b[38;5;124m\"\u001b[39m] \n",
      "File \u001b[0;32m/usr/local/lib/python3.10/dist-packages/wandb/apis/attrs.py:51\u001b[0m, in \u001b[0;36mAttrs.__getattr__\u001b[0;34m(self, name)\u001b[0m\n\u001b[1;32m     49\u001b[0m     \u001b[38;5;28;01mreturn\u001b[39;00m \u001b[38;5;28mself\u001b[39m\u001b[38;5;241m.\u001b[39m_attrs[name]\n\u001b[1;32m     50\u001b[0m \u001b[38;5;28;01melse\u001b[39;00m:\n\u001b[0;32m---> 51\u001b[0m     \u001b[38;5;28;01mraise\u001b[39;00m \u001b[38;5;167;01mAttributeError\u001b[39;00m(\u001b[38;5;124mf\u001b[39m\u001b[38;5;124m\"\u001b[39m\u001b[38;5;132;01m{\u001b[39;00m\u001b[38;5;28mrepr\u001b[39m(\u001b[38;5;28mself\u001b[39m)\u001b[38;5;132;01m!r}\u001b[39;00m\u001b[38;5;124m object has no attribute \u001b[39m\u001b[38;5;132;01m{\u001b[39;00mname\u001b[38;5;132;01m!r}\u001b[39;00m\u001b[38;5;124m\"\u001b[39m)\n",
      "\u001b[0;31mAttributeError\u001b[0m: '<Run lichangyue/label_num_DNN_test/7tjvowmt (finished)>' object has no attribute '_settings'"
     ]
    }
   ],
   "source": []
  },
  {
   "cell_type": "code",
   "execution_count": 3,
   "metadata": {},
   "outputs": [
    {
     "data": {
      "text/plain": [
       "tensor([[   5,    6,    7,    8,    9],\n",
       "        [1005, 1006, 1007, 1008, 1009]])"
      ]
     },
     "execution_count": 3,
     "metadata": {},
     "output_type": "execute_result"
    }
   ],
   "source": [
    "cfg.sample_id"
   ]
  },
  {
   "cell_type": "code",
   "execution_count": 40,
   "metadata": {},
   "outputs": [],
   "source": [
    "from attacks.base import Attacker\n",
    "from demo import attack_dataloader\n",
    "from models import get_model\n",
    "from utils.constraint import Constraint\n",
    "import json\n",
    "from config.config import Config\n",
    "config = json.loads(run.json_config)\n",
    "config = {key: value['value'] for key, value in config.items() if key != '_wandb'}\n",
    "cfg = Config(**config)\n",
    "\n",
    "cfg.sample_id = torch.tensor(cfg.sample_id) \n",
    "\n",
    "model = get_model(cfg.model_name)\n",
    "dataloader = attack_dataloader(cfg.dataset_name, cfg.sample_id, cfg.targets)\n",
    "dataset = dataloader.dataset\n",
    "dataloader = torch.utils.data.DataLoader(dataset, batch_size=5, shuffle=False)\n",
    "\n",
    "constraint = Constraint(cfg.attack_mode, frame_width=cfg.frame_width, ref_size=299)\n",
    "attacker = Attacker(model, constraint, cfg)\n"
   ]
  },
  {
   "cell_type": "code",
   "execution_count": 41,
   "metadata": {},
   "outputs": [
    {
     "name": "stderr",
     "output_type": "stream",
     "text": [
      "/tmp/ipykernel_266766/1163931395.py:2: FutureWarning: You are using `torch.load` with `weights_only=False` (the current default value), which uses the default pickle module implicitly. It is possible to construct malicious pickle data which will execute arbitrary code during unpickling (See https://github.com/pytorch/pytorch/blob/main/SECURITY.md#untrusted-models for more details). In a future release, the default value for `weights_only` will be flipped to `True`. This limits the functions that could be executed during unpickling. Arbitrary objects will no longer be allowed to be loaded via this mode unless they are explicitly allowlisted by the user via `torch.serialization.add_safe_globals`. We recommend you start setting `weights_only=True` for any use case where you don't have full control of the loaded file. Please open an issue on GitHub for any issues related to this experimental feature.\n",
      "  results = torch.load(file.name)\n"
     ]
    }
   ],
   "source": [
    "file = run.file(\"perturbation.pth\")\n",
    "results = torch.load(file.name) \n",
    "attacker.pert  = results['perturbation']"
   ]
  },
  {
   "cell_type": "code",
   "execution_count": 39,
   "metadata": {},
   "outputs": [
    {
     "data": {
      "text/plain": [
       "'./save/perturbation.pth'"
      ]
     },
     "execution_count": 39,
     "metadata": {},
     "output_type": "execute_result"
    }
   ],
   "source": [
    "file.name"
   ]
  },
  {
   "cell_type": "code",
   "execution_count": 42,
   "metadata": {},
   "outputs": [
    {
     "name": "stderr",
     "output_type": "stream",
     "text": [
      "/root/research/sources/multi-targeted-uap/models/base.py:199: UserWarning: To copy construct from a tensor, it is recommended to use sourceTensor.clone().detach() or sourceTensor.clone().detach().requires_grad_(True), rather than torch.tensor(sourceTensor).\n",
      "  return {\"pixel_values\": processed_image}, torch.tensor(targets)\n"
     ]
    },
    {
     "name": "stdout",
     "output_type": "stream",
     "text": [
      "ASR:  1.0\n",
      "ACC:  0.0\n"
     ]
    }
   ],
   "source": [
    "asr = 0\n",
    "acc = 0\n",
    "with torch.no_grad():\n",
    "    for item in dataloader:\n",
    "        inputs, target = attacker.get_inputs(**item, generation=True)\n",
    "        image, target = inputs['pixel_values'].cuda(), target.cuda()\n",
    "        label = torch.tensor([int(label) for label in item['label']], device='cuda')\n",
    "        logits = model.model(image)\n",
    "        pred = logits.argmax(-1)\n",
    "        acc += (pred == label).sum().item()\n",
    "        asr += (pred == target).sum().item()\n",
    "asr /= len(dataset)\n",
    "acc /= len(dataset)\n",
    "print(\"ASR: \", asr)\n",
    "print(\"ACC: \", acc)        "
   ]
  }
 ],
 "metadata": {
  "kernelspec": {
   "display_name": "Python 3",
   "language": "python",
   "name": "python3"
  },
  "language_info": {
   "codemirror_mode": {
    "name": "ipython",
    "version": 3
   },
   "file_extension": ".py",
   "mimetype": "text/x-python",
   "name": "python",
   "nbconvert_exporter": "python",
   "pygments_lexer": "ipython3",
   "version": "3.10.12"
  }
 },
 "nbformat": 4,
 "nbformat_minor": 2
}

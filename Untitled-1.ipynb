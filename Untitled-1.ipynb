{
 "cells": [
  {
   "cell_type": "code",
   "execution_count": 1,
   "metadata": {},
   "outputs": [
    {
     "name": "stderr",
     "output_type": "stream",
     "text": [
      "/tmp/ipykernel_5374/763918374.py:20: FutureWarning: You are using `torch.load` with `weights_only=False` (the current default value), which uses the default pickle module implicitly. It is possible to construct malicious pickle data which will execute arbitrary code during unpickling (See https://github.com/pytorch/pytorch/blob/main/SECURITY.md#untrusted-models for more details). In a future release, the default value for `weights_only` will be flipped to `True`. This limits the functions that could be executed during unpickling. Arbitrary objects will no longer be allowed to be loaded via this mode unless they are explicitly allowlisted by the user via `torch.serialization.add_safe_globals`. We recommend you start setting `weights_only=True` for any use case where you don't have full control of the loaded file. Please open an issue on GitHub for any issues related to this experimental feature.\n",
      "  results = torch.load(file.name)\n",
      "/tmp/ipykernel_5374/763918374.py:28: UserWarning: To copy construct from a tensor, it is recommended to use sourceTensor.clone().detach() or sourceTensor.clone().detach().requires_grad_(True), rather than torch.tensor(sourceTensor).\n",
      "  cfg.sample_id = torch.tensor(cfg.sample_id)\n"
     ]
    }
   ],
   "source": [
    "\n",
    "import json\n",
    "import re\n",
    "\n",
    "import torch\n",
    "import yaml\n",
    "\n",
    "import wandb\n",
    "from attacks.base import Attacker\n",
    "from config import Config\n",
    "from demo import attack_dataloader\n",
    "from models import get_model\n",
    "from utils.constraint import Constraint\n",
    "\n",
    "# Online\n",
    "api = wandb.Api()\n",
    "run_path = \"lichangyue/label_num_DNN_test/0ex4qqxf\"\n",
    "run = api.run(run_path)\n",
    "config = json.loads(run.json_config)\n",
    "file = run.file(\"perturbation.pth\").download(root=\"./save\", replace=True, exist_ok=True)\n",
    "results = torch.load(file.name)\n",
    "config = {key: value[\"value\"] for key, value in config.items() if key != \"_wandb\"}\n",
    "cfg = Config(**config)\n",
    "\n",
    "# Test on the training set or the test set\n",
    "cfg.sample_id = torch.tensor(\n",
    "    [list(map(int, re.findall(r\"\\d+\", x))) for x in cfg.sample_id[1:-2].split(r\"]\")]\n",
    ")\n",
    "cfg.sample_id = torch.tensor(cfg.sample_id)"
   ]
  },
  {
   "cell_type": "code",
   "execution_count": 2,
   "metadata": {},
   "outputs": [],
   "source": [
    "model = get_model(cfg.model_name)\n",
    "embeddings = []\n",
    "hook_handlers = []\n",
    "# get the latent embedding of the image\n",
    "def hook_fn(module, input, output):\n",
    "    embeddings.append(output.detach().cpu())\n",
    "hook_handlers.append(list(model.model.modules())[-2].register_forward_hook(hook_fn))"
   ]
  },
  {
   "cell_type": "code",
   "execution_count": 48,
   "metadata": {},
   "outputs": [],
   "source": [
    "dataloader = attack_dataloader(cfg.dataset_name, cfg.sample_id, cfg.targets)\n",
    "dataloader = torch.utils.data.DataLoader(dataloader.dataset, batch_size=1, shuffle=False)\n",
    "item = next(iter(dataloader))\n",
    "constraint = Constraint(cfg.attack_mode, frame_width=cfg.frame_width, ref_size=299)\n",
    "attacker = Attacker(model, constraint, cfg)\n",
    "attacker.pert = results[\"perturbation\"]\n"
   ]
  },
  {
   "cell_type": "code",
   "execution_count": 50,
   "metadata": {},
   "outputs": [],
   "source": [
    "cosine_similarity = torch.nn.CosineSimilarity()\n",
    "original_labels = []\n",
    "adversarial_labels = []\n",
    "original_preds = []\n",
    "target_labels = []\n",
    "def get_cosine_similarity(item:dict):\n",
    "    # embeddings.clear()\n",
    "    print(\"original label\", item['label'][-1])\n",
    "    print(\"target\", item['target'][-1])\n",
    "    original_labels.append(item['label'][-1])\n",
    "    target_labels.append(item['target'][-1])\n",
    "    image = item[\"image\"].cuda()\n",
    "    logits = model.model(image)\n",
    "    print(\"original predict label\", logits.argmax(-1).item())\n",
    "    original_preds.append(logits.argmax(-1).item())\n",
    "    inputs, target = attacker.get_inputs(**item, generation=True)\n",
    "    image, target = inputs[\"pixel_values\"].cuda(), target.cuda()\n",
    "    logits = model.model(image)\n",
    "    print(\"Adversarial pred\", logits.argmax(-1).item())\n",
    "    adversarial_labels.append(logits.argmax(-1).item())\n"
   ]
  },
  {
   "cell_type": "code",
   "execution_count": 51,
   "metadata": {},
   "outputs": [
    {
     "name": "stdout",
     "output_type": "stream",
     "text": [
      "original label 0\n",
      "target tensor(329)\n",
      "original predict label 669\n",
      "Adversarial pred 329\n",
      "original label 0\n",
      "target tensor(329)\n",
      "original predict label 0\n"
     ]
    },
    {
     "name": "stderr",
     "output_type": "stream",
     "text": [
      "/root/research/sources/multi-targeted-uap/models/base.py:203: UserWarning: To copy construct from a tensor, it is recommended to use sourceTensor.clone().detach() or sourceTensor.clone().detach().requires_grad_(True), rather than torch.tensor(sourceTensor).\n",
      "  return {\"pixel_values\": processed_image}, torch.tensor(targets)\n",
      "/root/research/sources/multi-targeted-uap/models/base.py:186: UserWarning: To copy construct from a tensor, it is recommended to use sourceTensor.clone().detach() or sourceTensor.clone().detach().requires_grad_(True), rather than torch.tensor(sourceTensor).\n",
      "  return torch.tensor(self._mean)\n",
      "/root/research/sources/multi-targeted-uap/models/base.py:190: UserWarning: To copy construct from a tensor, it is recommended to use sourceTensor.clone().detach() or sourceTensor.clone().detach().requires_grad_(True), rather than torch.tensor(sourceTensor).\n",
      "  return torch.tensor(self._std)\n"
     ]
    },
    {
     "name": "stdout",
     "output_type": "stream",
     "text": [
      "Adversarial pred 329\n",
      "original label 0\n",
      "target tensor(329)\n",
      "original predict label 0\n",
      "Adversarial pred 329\n",
      "original label 0\n",
      "target tensor(329)\n",
      "original predict label 0\n",
      "Adversarial pred 329\n",
      "original label 0\n",
      "target tensor(329)\n",
      "original predict label 0\n",
      "Adversarial pred 329\n",
      "original label 0\n",
      "target tensor(329)\n",
      "original predict label 0\n",
      "Adversarial pred 329\n",
      "original label 0\n",
      "target tensor(329)\n",
      "original predict label 0\n",
      "Adversarial pred 329\n",
      "original label 0\n",
      "target tensor(329)\n",
      "original predict label 0\n",
      "Adversarial pred 329\n",
      "original label 0\n",
      "target tensor(329)\n",
      "original predict label 0\n",
      "Adversarial pred 329\n",
      "original label 0\n",
      "target tensor(329)\n",
      "original predict label 0\n",
      "Adversarial pred 329\n",
      "original label 0\n",
      "target tensor(329)\n",
      "original predict label 133\n",
      "Adversarial pred 329\n",
      "original label 0\n",
      "target tensor(329)\n",
      "original predict label 0\n",
      "Adversarial pred 329\n",
      "original label 0\n",
      "target tensor(329)\n",
      "original predict label 0\n",
      "Adversarial pred 329\n",
      "original label 0\n",
      "target tensor(329)\n",
      "original predict label 0\n",
      "Adversarial pred 329\n",
      "original label 0\n",
      "target tensor(329)\n",
      "original predict label 0\n",
      "Adversarial pred 329\n",
      "original label 0\n",
      "target tensor(329)\n",
      "original predict label 0\n",
      "Adversarial pred 329\n",
      "original label 0\n",
      "target tensor(329)\n",
      "original predict label 0\n",
      "Adversarial pred 329\n",
      "original label 0\n",
      "target tensor(329)\n",
      "original predict label 0\n",
      "Adversarial pred 329\n",
      "original label 0\n",
      "target tensor(329)\n",
      "original predict label 0\n",
      "Adversarial pred 329\n",
      "original label 0\n",
      "target tensor(329)\n",
      "original predict label 0\n",
      "Adversarial pred 329\n",
      "original label 0\n",
      "target tensor(329)\n",
      "original predict label 0\n",
      "Adversarial pred 329\n",
      "original label 0\n",
      "target tensor(329)\n",
      "original predict label 0\n",
      "Adversarial pred 329\n",
      "original label 0\n",
      "target tensor(329)\n",
      "original predict label 0\n",
      "Adversarial pred 329\n",
      "original label 0\n",
      "target tensor(329)\n",
      "original predict label 0\n",
      "Adversarial pred 329\n",
      "original label 0\n",
      "target tensor(329)\n",
      "original predict label 0\n",
      "Adversarial pred 329\n",
      "original label 0\n",
      "target tensor(329)\n",
      "original predict label 0\n",
      "Adversarial pred 329\n",
      "original label 0\n",
      "target tensor(329)\n",
      "original predict label 0\n",
      "Adversarial pred 329\n",
      "original label 0\n",
      "target tensor(329)\n",
      "original predict label 0\n",
      "Adversarial pred 329\n",
      "original label 0\n",
      "target tensor(329)\n",
      "original predict label 0\n",
      "Adversarial pred 329\n",
      "original label 0\n",
      "target tensor(329)\n",
      "original predict label 0\n",
      "Adversarial pred 329\n",
      "original label 20\n",
      "target tensor(688)\n",
      "original predict label 20\n",
      "Adversarial pred 688\n",
      "original label 20\n",
      "target tensor(688)\n",
      "original predict label 20\n",
      "Adversarial pred 688\n",
      "original label 20\n",
      "target tensor(688)\n",
      "original predict label 20\n",
      "Adversarial pred 688\n",
      "original label 20\n",
      "target tensor(688)\n",
      "original predict label 20\n",
      "Adversarial pred 688\n",
      "original label 20\n",
      "target tensor(688)\n",
      "original predict label 20\n",
      "Adversarial pred 688\n",
      "original label 20\n",
      "target tensor(688)\n",
      "original predict label 20\n",
      "Adversarial pred 688\n",
      "original label 20\n",
      "target tensor(688)\n",
      "original predict label 20\n",
      "Adversarial pred 688\n",
      "original label 20\n",
      "target tensor(688)\n",
      "original predict label 20\n",
      "Adversarial pred 688\n",
      "original label 20\n",
      "target tensor(688)\n",
      "original predict label 58\n",
      "Adversarial pred 688\n",
      "original label 20\n",
      "target tensor(688)\n",
      "original predict label 20\n",
      "Adversarial pred 688\n",
      "original label 20\n",
      "target tensor(688)\n",
      "original predict label 20\n",
      "Adversarial pred 688\n",
      "original label 20\n",
      "target tensor(688)\n",
      "original predict label 13\n",
      "Adversarial pred 688\n",
      "original label 20\n",
      "target tensor(688)\n",
      "original predict label 20\n",
      "Adversarial pred 688\n",
      "original label 20\n",
      "target tensor(688)\n",
      "original predict label 20\n",
      "Adversarial pred 688\n",
      "original label 20\n",
      "target tensor(688)\n",
      "original predict label 20\n",
      "Adversarial pred 688\n",
      "original label 20\n",
      "target tensor(688)\n",
      "original predict label 20\n",
      "Adversarial pred 688\n",
      "original label 20\n",
      "target tensor(688)\n",
      "original predict label 20\n",
      "Adversarial pred 688\n",
      "original label 20\n",
      "target tensor(688)\n",
      "original predict label 20\n",
      "Adversarial pred 688\n",
      "original label 20\n",
      "target tensor(688)\n",
      "original predict label 20\n",
      "Adversarial pred 688\n",
      "original label 20\n",
      "target tensor(688)\n",
      "original predict label 20\n",
      "Adversarial pred 688\n",
      "original label 20\n",
      "target tensor(688)\n",
      "original predict label 20\n",
      "Adversarial pred 688\n",
      "original label 20\n",
      "target tensor(688)\n",
      "original predict label 20\n",
      "Adversarial pred 688\n",
      "original label 20\n",
      "target tensor(688)\n",
      "original predict label 142\n",
      "Adversarial pred 688\n",
      "original label 20\n",
      "target tensor(688)\n",
      "original predict label 20\n",
      "Adversarial pred 688\n",
      "original label 20\n",
      "target tensor(688)\n",
      "original predict label 20\n",
      "Adversarial pred 688\n",
      "original label 20\n",
      "target tensor(688)\n",
      "original predict label 20\n",
      "Adversarial pred 688\n",
      "original label 20\n",
      "target tensor(688)\n",
      "original predict label 20\n",
      "Adversarial pred 688\n",
      "original label 20\n",
      "target tensor(688)\n",
      "original predict label 20\n",
      "Adversarial pred 688\n",
      "original label 20\n",
      "target tensor(688)\n",
      "original predict label 20\n",
      "Adversarial pred 688\n",
      "original label 20\n",
      "target tensor(688)\n",
      "original predict label 95\n",
      "Adversarial pred 688\n",
      "original label 40\n",
      "target tensor(122)\n",
      "original predict label 46\n",
      "Adversarial pred 122\n",
      "original label 40\n",
      "target tensor(122)\n",
      "original predict label 40\n",
      "Adversarial pred 122\n",
      "original label 40\n",
      "target tensor(122)\n",
      "original predict label 40\n",
      "Adversarial pred 122\n",
      "original label 40\n",
      "target tensor(122)\n",
      "original predict label 40\n",
      "Adversarial pred 122\n",
      "original label 40\n",
      "target tensor(122)\n",
      "original predict label 40\n",
      "Adversarial pred 122\n",
      "original label 40\n",
      "target tensor(122)\n",
      "original predict label 40\n",
      "Adversarial pred 122\n",
      "original label 40\n",
      "target tensor(122)\n",
      "original predict label 40\n",
      "Adversarial pred 122\n",
      "original label 40\n",
      "target tensor(122)\n",
      "original predict label 46\n",
      "Adversarial pred 122\n",
      "original label 40\n",
      "target tensor(122)\n",
      "original predict label 40\n",
      "Adversarial pred 122\n",
      "original label 40\n",
      "target tensor(122)\n",
      "original predict label 40\n",
      "Adversarial pred 122\n",
      "original label 40\n",
      "target tensor(122)\n",
      "original predict label 40\n",
      "Adversarial pred 122\n",
      "original label 40\n",
      "target tensor(122)\n",
      "original predict label 40\n",
      "Adversarial pred 122\n",
      "original label 40\n",
      "target tensor(122)\n",
      "original predict label 40\n",
      "Adversarial pred 122\n",
      "original label 40\n",
      "target tensor(122)\n",
      "original predict label 40\n",
      "Adversarial pred 122\n",
      "original label 40\n",
      "target tensor(122)\n",
      "original predict label 46\n",
      "Adversarial pred 122\n",
      "original label 40\n",
      "target tensor(122)\n",
      "original predict label 40\n",
      "Adversarial pred 122\n",
      "original label 40\n",
      "target tensor(122)\n",
      "original predict label 46\n",
      "Adversarial pred 122\n",
      "original label 40\n",
      "target tensor(122)\n",
      "original predict label 46\n",
      "Adversarial pred 122\n",
      "original label 40\n",
      "target tensor(122)\n",
      "original predict label 46\n",
      "Adversarial pred 122\n",
      "original label 40\n",
      "target tensor(122)\n",
      "original predict label 46\n",
      "Adversarial pred 122\n",
      "original label 40\n",
      "target tensor(122)\n",
      "original predict label 40\n",
      "Adversarial pred 122\n",
      "original label 40\n",
      "target tensor(122)\n",
      "original predict label 46\n",
      "Adversarial pred 122\n",
      "original label 40\n",
      "target tensor(122)\n",
      "original predict label 46\n",
      "Adversarial pred 122\n",
      "original label 40\n",
      "target tensor(122)\n",
      "original predict label 40\n",
      "Adversarial pred 122\n",
      "original label 40\n",
      "target tensor(122)\n",
      "original predict label 46\n",
      "Adversarial pred 122\n",
      "original label 40\n",
      "target tensor(122)\n",
      "original predict label 40\n",
      "Adversarial pred 122\n",
      "original label 40\n",
      "target tensor(122)\n",
      "original predict label 46\n",
      "Adversarial pred 122\n",
      "original label 40\n",
      "target tensor(122)\n",
      "original predict label 40\n",
      "Adversarial pred 122\n",
      "original label 40\n",
      "target tensor(122)\n",
      "original predict label 40\n",
      "Adversarial pred 122\n",
      "original label 40\n",
      "target tensor(122)\n",
      "original predict label 46\n",
      "Adversarial pred 122\n"
     ]
    }
   ],
   "source": [
    "embeddings.clear()\n",
    "for item in dataloader:\n",
    "    get_cosine_similarity(item)"
   ]
  },
  {
   "cell_type": "code",
   "execution_count": 54,
   "metadata": {},
   "outputs": [],
   "source": [
    "image_embeddings = embeddings[::2]\n",
    "adversarial_embeddings = embeddings[1::2]"
   ]
  },
  {
   "cell_type": "code",
   "execution_count": 58,
   "metadata": {},
   "outputs": [],
   "source": [
    "\n",
    "image_embeddings = torch.cat(image_embeddings, dim=0)\n",
    "adversarial_embeddings = torch.cat(adversarial_embeddings, dim=0)"
   ]
  },
  {
   "cell_type": "code",
   "execution_count": 71,
   "metadata": {},
   "outputs": [],
   "source": [
    "distance = torch.nn.functional.cosine_similarity(image_embeddings.unsqueeze(1), adversarial_embeddings.unsqueeze(0), dim=-1)"
   ]
  },
  {
   "cell_type": "code",
   "execution_count": null,
   "metadata": {},
   "outputs": [],
   "source": []
  },
  {
   "cell_type": "code",
   "execution_count": null,
   "metadata": {},
   "outputs": [],
   "source": []
  },
  {
   "cell_type": "code",
   "execution_count": null,
   "metadata": {},
   "outputs": [],
   "source": []
  },
  {
   "cell_type": "code",
   "execution_count": 75,
   "metadata": {},
   "outputs": [
    {
     "name": "stdout",
     "output_type": "stream",
     "text": [
      "tensor(0.4933)\n",
      "tensor(0.8186)\n"
     ]
    }
   ],
   "source": [
    "def get_distance(emb):\n",
    "    distance = torch.nn.functional.cosine_similarity(emb.unsqueeze(1), emb.unsqueeze(0), dim=-1)\n",
    "    return distance.mean()\n",
    "print(get_distance(image_embeddings))\n",
    "print(get_distance(adversarial_embeddings))"
   ]
  },
  {
   "cell_type": "code",
   "execution_count": 79,
   "metadata": {},
   "outputs": [
    {
     "name": "stdout",
     "output_type": "stream",
     "text": [
      "tensor(0.8546)\n",
      "tensor(0.8920)\n",
      "tensor(0.8856)\n"
     ]
    }
   ],
   "source": [
    "step = adversarial_embeddings.shape[0] / len(cfg.targets)\n",
    "for i in range(len(cfg.targets)):\n",
    "    print(get_distance(adversarial_embeddings[int(i*step):int((i+1)*step), :]))"
   ]
  },
  {
   "cell_type": "markdown",
   "metadata": {},
   "source": [
    "# Test on blank image"
   ]
  },
  {
   "cell_type": "code",
   "execution_count": 89,
   "metadata": {},
   "outputs": [
    {
     "name": "stdout",
     "output_type": "stream",
     "text": [
      "644\n"
     ]
    }
   ],
   "source": [
    "embeddings.clear()\n",
    "image = torch.zeros(1, 3, 299, 299).cuda()\n",
    "inputs, target = model.generate_inputs(image, questions=None, targets=0)\n",
    "image = inputs[\"pixel_values\"].cuda()\n",
    "logits = model.model(image)\n",
    "print(logits.argmax(-1).item())\n",
    "print(torch.nn.functional.cosine_similarity(image_embeddings, embeddings[-1], dim=-1).mean())\n",
    "\n",
    "\n"
   ]
  },
  {
   "cell_type": "code",
   "execution_count": 103,
   "metadata": {},
   "outputs": [
    {
     "name": "stdout",
     "output_type": "stream",
     "text": [
      "tensor(0.3403)\n"
     ]
    }
   ],
   "source": []
  },
  {
   "cell_type": "code",
   "execution_count": 106,
   "metadata": {},
   "outputs": [
    {
     "name": "stdout",
     "output_type": "stream",
     "text": [
      "329\n"
     ]
    }
   ],
   "source": [
    "embeddings.clear()\n",
    "image = torch.zeros(1, 3, 299, 299)\n",
    "inputs, target = attacker.get_inputs(image, question=None, target=0, label=None, answer=None, generation=True)\n",
    "image = inputs[\"pixel_values\"].cuda()\n",
    "logits = model.model(image)\n",
    "print(logits.argmax(-1).item())\n"
   ]
  },
  {
   "cell_type": "code",
   "execution_count": 108,
   "metadata": {},
   "outputs": [
    {
     "name": "stdout",
     "output_type": "stream",
     "text": [
      "tensor(0.8237)\n"
     ]
    }
   ],
   "source": [
    "print(torch.nn.functional.cosine_similarity(adversarial_embeddings, embeddings[-1], dim=-1).mean())"
   ]
  },
  {
   "cell_type": "code",
   "execution_count": 111,
   "metadata": {},
   "outputs": [],
   "source": [
    "from torchvision.datasets import ImageNet\n",
    "dataset = ImageNet(root=\"./data/ImageNet\", split=\"val\")\n"
   ]
  },
  {
   "cell_type": "code",
   "execution_count": null,
   "metadata": {},
   "outputs": [],
   "source": [
    "dataset"
   ]
  },
  {
   "cell_type": "code",
   "execution_count": null,
   "metadata": {},
   "outputs": [
    {
     "ename": "TypeError",
     "evalue": "'int' object is not subscriptable",
     "output_type": "error",
     "traceback": [
      "\u001b[0;31m---------------------------------------------------------------------------\u001b[0m",
      "\u001b[0;31mTypeError\u001b[0m                                 Traceback (most recent call last)",
      "Cell \u001b[0;32mIn[22], line 1\u001b[0m\n\u001b[0;32m----> 1\u001b[0m \u001b[38;5;28;43msorted\u001b[39;49m\u001b[43m(\u001b[49m\u001b[43mlabel2index\u001b[49m\u001b[43m,\u001b[49m\u001b[43m \u001b[49m\u001b[43mkey\u001b[49m\u001b[38;5;241;43m=\u001b[39;49m\u001b[38;5;28;43;01mlambda\u001b[39;49;00m\u001b[43m \u001b[49m\u001b[43mx\u001b[49m\u001b[43m:\u001b[49m\u001b[43m \u001b[49m\u001b[43mx\u001b[49m\u001b[43m[\u001b[49m\u001b[38;5;241;43m0\u001b[39;49m\u001b[43m]\u001b[49m\u001b[43m)\u001b[49m\n",
      "Cell \u001b[0;32mIn[22], line 1\u001b[0m, in \u001b[0;36m<lambda>\u001b[0;34m(x)\u001b[0m\n\u001b[0;32m----> 1\u001b[0m \u001b[38;5;28msorted\u001b[39m(label2index, key\u001b[38;5;241m=\u001b[39m\u001b[38;5;28;01mlambda\u001b[39;00m x: \u001b[43mx\u001b[49m\u001b[43m[\u001b[49m\u001b[38;5;241;43m0\u001b[39;49m\u001b[43m]\u001b[49m)\n",
      "\u001b[0;31mTypeError\u001b[0m: 'int' object is not subscriptable"
     ]
    }
   ],
   "source": [
    "sorted(label2index, key=lambda x: x[0])"
   ]
  },
  {
   "cell_type": "code",
   "execution_count": 24,
   "metadata": {},
   "outputs": [],
   "source": [
    "\n",
    "# 将label2index按照键值排序\n",
    "\n"
   ]
  },
  {
   "cell_type": "code",
   "execution_count": null,
   "metadata": {},
   "outputs": [],
   "source": []
  },
  {
   "cell_type": "code",
   "execution_count": 57,
   "metadata": {},
   "outputs": [
    {
     "data": {
      "image/png": "[encoded data removed]",
      "text/plain": [
       "<Figure size 1200x600 with 1 Axes>"
      ]
     },
     "metadata": {},
     "output_type": "display_data"
    }
   ],
   "source": [
    "plt.figure(figsize=(12, 6))\n",
    "# 绘制直方图\n",
    "sns.histplot(data=leng, bins=50, color='indianred',stat='density', alpha=0.7)\n",
    "\n",
    "# 添加曲线\n",
    "sns.kdeplot(data=leng, color='navy', linewidth=2)\n",
    "\n",
    "plt.title('The number of images in each class', fontsize=14)\n",
    "plt.xlabel('The number of images', fontsize=12)\n",
    "plt.ylabel('Density of classes', fontsize=12)\n",
    "plt.grid(True, alpha=0.3)\n",
    "plt.show()\n"
   ]
  },
  {
   "cell_type": "code",
   "execution_count": 54,
   "metadata": {},
   "outputs": [
    {
     "data": {
      "image/png": "[encoded data removed]",
      "text/plain": [
       "<Figure size 1200x600 with 2 Axes>"
      ]
     },
     "metadata": {},
     "output_type": "display_data"
    }
   ],
   "source": [
    "plt.figure(figsize=(12, 6))\n",
    "\n",
    "# ax = sns.histplot(data=leng, bins=50, color='indianred', stat='density', alpha=0.7)\n",
    "ax = sns.histplot(data=leng, bins=50, color='indianred', alpha=0.7)\n",
    "plt.xlabel('The number of images', fontsize=12)\n",
    "plt.ylabel('Class Count', fontsize=12)\n",
    "\n",
    "ax2 = ax.twinx()\n",
    "sns.kdeplot(data=leng, color='navy', linewidth=2, ax=ax2)\n",
    "ax2.set_ylabel('Density', fontsize=12)\n",
    "\n",
    "plt.title('The number of images in each class', fontsize=14)\n",
    "\n",
    "plt.grid(True, alpha=0.3)\n",
    "plt.show()"
   ]
  },
  {
   "cell_type": "code",
   "execution_count": null,
   "metadata": {},
   "outputs": [],
   "source": []
  }
 ],
 "metadata": {
  "kernelspec": {
   "display_name": "Python 3",
   "language": "python",
   "name": "python3"
  },
  "language_info": {
   "codemirror_mode": {
    "name": "ipython",
    "version": 3
   },
   "file_extension": ".py",
   "mimetype": "text/x-python",
   "name": "python",
   "nbconvert_exporter": "python",
   "pygments_lexer": "ipython3",
   "version": "3.10.12"
  }
 },
 "nbformat": 4,
 "nbformat_minor": 2
}
